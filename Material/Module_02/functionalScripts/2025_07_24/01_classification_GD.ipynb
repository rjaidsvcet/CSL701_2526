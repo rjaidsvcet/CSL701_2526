{
 "cells": [
  {
   "cell_type": "code",
   "execution_count": 1,
   "id": "informed-cooperation",
   "metadata": {},
   "outputs": [],
   "source": [
    "import numpy as np"
   ]
  },
  {
   "cell_type": "code",
   "execution_count": 2,
   "id": "systematic-exercise",
   "metadata": {},
   "outputs": [],
   "source": [
    "data = np.random.randn(10)\n",
    "y = np.where(data<0, 0, 1)"
   ]
  },
  {
   "cell_type": "code",
   "execution_count": 3,
   "id": "hawaiian-february",
   "metadata": {},
   "outputs": [
    {
     "data": {
      "text/plain": [
       "array([-0.11412998, -0.18636574, -1.7358172 ,  0.00701037, -0.35036055,\n",
       "        0.76852993, -0.4241074 , -0.13082829, -0.54665069,  1.3638287 ])"
      ]
     },
     "execution_count": 3,
     "metadata": {},
     "output_type": "execute_result"
    }
   ],
   "source": [
    "data"
   ]
  },
  {
   "cell_type": "code",
   "execution_count": 4,
   "id": "removed-cemetery",
   "metadata": {},
   "outputs": [
    {
     "data": {
      "text/plain": [
       "array([0, 0, 0, 1, 0, 1, 0, 0, 0, 1])"
      ]
     },
     "execution_count": 4,
     "metadata": {},
     "output_type": "execute_result"
    }
   ],
   "source": [
    "y"
   ]
  },
  {
   "cell_type": "code",
   "execution_count": 5,
   "id": "breathing-shield",
   "metadata": {},
   "outputs": [],
   "source": [
    "def sigmoid(x):\n",
    "    return (1 / (1 + np.exp(-x)))"
   ]
  },
  {
   "cell_type": "code",
   "execution_count": 6,
   "id": "about-drama",
   "metadata": {},
   "outputs": [],
   "source": [
    "def model(weight, bias, x):\n",
    "    return weight*x + bias"
   ]
  },
  {
   "cell_type": "code",
   "execution_count": 7,
   "id": "modular-supervision",
   "metadata": {},
   "outputs": [],
   "source": [
    "np.random.seed(0)\n",
    "W1 = np.random.randn(1)\n",
    "b1 = np.random.randn(1)"
   ]
  },
  {
   "cell_type": "code",
   "execution_count": 8,
   "id": "buried-interpretation",
   "metadata": {},
   "outputs": [],
   "source": [
    "y_pred = model(W1.item(), b1.item(), data)"
   ]
  },
  {
   "cell_type": "code",
   "execution_count": 9,
   "id": "dangerous-solomon",
   "metadata": {},
   "outputs": [
    {
     "data": {
      "text/plain": [
       "array([ 0.19882595,  0.07139828, -2.6619152 ,  0.41252386, -0.21789714,\n",
       "        1.75588424, -0.34799044,  0.16936926, -0.56416323,  2.80602242])"
      ]
     },
     "execution_count": 9,
     "metadata": {},
     "output_type": "execute_result"
    }
   ],
   "source": [
    "y_pred"
   ]
  },
  {
   "cell_type": "markdown",
   "id": "57b063cb-195d-4f19-b691-c44f51371394",
   "metadata": {},
   "source": [
    "#### Converting from linear to non-linear"
   ]
  },
  {
   "cell_type": "code",
   "execution_count": 10,
   "id": "theoretical-yellow",
   "metadata": {},
   "outputs": [],
   "source": [
    "z = sigmoid(y_pred)"
   ]
  },
  {
   "cell_type": "code",
   "execution_count": 11,
   "id": "beautiful-irrigation",
   "metadata": {},
   "outputs": [
    {
     "data": {
      "text/plain": [
       "array([0.54954338, 0.51784199, 0.06525841, 0.6016929 , 0.44574023,\n",
       "       0.85269344, 0.41386982, 0.54224139, 0.36258472, 0.9430004 ])"
      ]
     },
     "execution_count": 11,
     "metadata": {},
     "output_type": "execute_result"
    }
   ],
   "source": [
    "z"
   ]
  },
  {
   "cell_type": "markdown",
   "id": "ddc05467-144a-41b2-b26a-11a6e760d8d9",
   "metadata": {},
   "source": [
    "#### Logarithimic Loss"
   ]
  },
  {
   "cell_type": "code",
   "execution_count": 12,
   "id": "widespread-preserve",
   "metadata": {},
   "outputs": [],
   "source": [
    "def binary_cross_entropy(y_pred, y_true):\n",
    "    return -(y_true * np.log(y_pred) + (1 - y_true) * np.log(1 - y_pred)).mean()"
   ]
  },
  {
   "cell_type": "code",
   "execution_count": 13,
   "id": "aquatic-cornwall",
   "metadata": {},
   "outputs": [
    {
     "data": {
      "text/plain": [
       "0.4676596264285731"
      ]
     },
     "execution_count": 13,
     "metadata": {},
     "output_type": "execute_result"
    }
   ],
   "source": [
    "loss = binary_cross_entropy(y_pred=z, y_true=y)\n",
    "loss"
   ]
  },
  {
   "cell_type": "code",
   "execution_count": 14,
   "id": "ongoing-equality",
   "metadata": {},
   "outputs": [],
   "source": [
    "weight = W1.item()\n",
    "bias = b1.item()"
   ]
  },
  {
   "cell_type": "code",
   "execution_count": 15,
   "id": "colored-animation",
   "metadata": {},
   "outputs": [
    {
     "data": {
      "text/plain": [
       "1.764052345967664"
      ]
     },
     "execution_count": 15,
     "metadata": {},
     "output_type": "execute_result"
    }
   ],
   "source": [
    "weight"
   ]
  },
  {
   "cell_type": "code",
   "execution_count": 16,
   "id": "3e806a04-05cc-48d5-a42f-f3df6275046e",
   "metadata": {},
   "outputs": [
    {
     "data": {
      "text/plain": [
       "0.4001572083672233"
      ]
     },
     "execution_count": 16,
     "metadata": {},
     "output_type": "execute_result"
    }
   ],
   "source": [
    "bias"
   ]
  },
  {
   "cell_type": "code",
   "execution_count": 17,
   "id": "activated-boards",
   "metadata": {},
   "outputs": [],
   "source": [
    "def gradientDescent(alpha=0.01, epochs=5):\n",
    "    w = weight\n",
    "    b = bias\n",
    "    n = len(data)\n",
    "    for _ in range(epochs):\n",
    "        dw = (1/n)*np.sum(loss*data)\n",
    "        db = (1/n)*np.sum(loss)\n",
    "        w -= alpha * dw\n",
    "        b -= alpha * db\n",
    "        print(f'Epoch : {_+1} | weight : {w} | bias : {b}')\n",
    "        \n",
    "    return w, b"
   ]
  },
  {
   "cell_type": "code",
   "execution_count": 18,
   "id": "variable-demand",
   "metadata": {},
   "outputs": [
    {
     "name": "stdout",
     "output_type": "stream",
     "text": [
      "Epoch : 1 | weight : 1.764683167764032 | bias : 0.3996895487407947\n",
      "Epoch : 2 | weight : 1.7653139895604 | bias : 0.3992218891143661\n",
      "Epoch : 3 | weight : 1.765944811356768 | bias : 0.39875422948793754\n",
      "Epoch : 4 | weight : 1.766575633153136 | bias : 0.39828656986150895\n",
      "Epoch : 5 | weight : 1.767206454949504 | bias : 0.39781891023508037\n"
     ]
    }
   ],
   "source": [
    "w, b = gradientDescent()"
   ]
  },
  {
   "cell_type": "code",
   "execution_count": null,
   "id": "tough-chess",
   "metadata": {},
   "outputs": [],
   "source": []
  },
  {
   "cell_type": "code",
   "execution_count": null,
   "id": "spiritual-click",
   "metadata": {},
   "outputs": [],
   "source": []
  }
 ],
 "metadata": {
  "kernelspec": {
   "display_name": "Python 3 (ipykernel)",
   "language": "python",
   "name": "python3"
  },
  "language_info": {
   "codemirror_mode": {
    "name": "ipython",
    "version": 3
   },
   "file_extension": ".py",
   "mimetype": "text/x-python",
   "name": "python",
   "nbconvert_exporter": "python",
   "pygments_lexer": "ipython3",
   "version": "3.11.5"
  }
 },
 "nbformat": 4,
 "nbformat_minor": 5
}
