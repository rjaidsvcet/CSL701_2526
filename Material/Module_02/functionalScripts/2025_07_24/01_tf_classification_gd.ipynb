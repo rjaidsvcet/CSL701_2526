{
 "cells": [
  {
   "cell_type": "code",
   "execution_count": 1,
   "id": "wired-doctrine",
   "metadata": {},
   "outputs": [],
   "source": [
    "import numpy as np\n",
    "\n",
    "X = np.random.randn(10)\n",
    "y = np.where(X<0, 0, 1)"
   ]
  },
  {
   "cell_type": "code",
   "execution_count": 2,
   "id": "atmospheric-cheat",
   "metadata": {},
   "outputs": [],
   "source": [
    "np.random.seed(0)\n",
    "W1 = np.random.randn(1)\n",
    "b1 = np.random.randn(1)"
   ]
  },
  {
   "cell_type": "code",
   "execution_count": 3,
   "id": "speaking-phrase",
   "metadata": {},
   "outputs": [],
   "source": [
    "import tensorflow as tf"
   ]
  },
  {
   "cell_type": "code",
   "execution_count": 4,
   "id": "wired-iraqi",
   "metadata": {},
   "outputs": [],
   "source": [
    "def linearModel(weight, bias, x):\n",
    "    return weight*x + bias"
   ]
  },
  {
   "cell_type": "code",
   "execution_count": 5,
   "id": "therapeutic-idaho",
   "metadata": {},
   "outputs": [],
   "source": [
    "from tensorflow.math import sigmoid"
   ]
  },
  {
   "cell_type": "code",
   "execution_count": 6,
   "id": "documentary-burke",
   "metadata": {},
   "outputs": [],
   "source": [
    "from tensorflow.keras.losses import BinaryCrossentropy"
   ]
  },
  {
   "cell_type": "code",
   "execution_count": 7,
   "id": "fifteen-intent",
   "metadata": {},
   "outputs": [],
   "source": [
    "bce = BinaryCrossentropy()"
   ]
  },
  {
   "cell_type": "code",
   "execution_count": 8,
   "id": "israeli-shooting",
   "metadata": {},
   "outputs": [],
   "source": [
    "X = tf.constant(X, dtype=float)\n",
    "y = tf.constant(y, dtype=float)"
   ]
  },
  {
   "cell_type": "code",
   "execution_count": 9,
   "id": "impressed-tennessee",
   "metadata": {},
   "outputs": [],
   "source": [
    "weight = tf.Variable(W1.item())\n",
    "bias = tf.Variable(b1.item())"
   ]
  },
  {
   "cell_type": "code",
   "execution_count": 10,
   "id": "later-worcester",
   "metadata": {},
   "outputs": [
    {
     "name": "stdout",
     "output_type": "stream",
     "text": [
      "Epoch : 1 | Weight : 1.76469 | Bias : 0.39921 | Loss : 0.05030\n",
      "Epoch : 2 | Weight : 1.76533 | Bias : 0.39827 | Loss : 0.05017\n",
      "Epoch : 3 | Weight : 1.76597 | Bias : 0.39733 | Loss : 0.05004\n",
      "Epoch : 4 | Weight : 1.76660 | Bias : 0.39640 | Loss : 0.04991\n",
      "Epoch : 5 | Weight : 1.76724 | Bias : 0.39547 | Loss : 0.04978\n"
     ]
    }
   ],
   "source": [
    "for i in range(5):\n",
    "    with tf.GradientTape() as tape:\n",
    "        y_pred = linearModel(weight=weight, x=X, bias=bias)\n",
    "        z = sigmoid(y_pred)\n",
    "        loss = bce(y, y_pred)\n",
    "    gradients = tape.gradient(loss, [weight, bias])\n",
    "    weight.assign(weight - 0.01 * gradients[0])\n",
    "    bias.assign(bias - 0.01 * gradients[1])\n",
    "    print(f'Epoch : {i+1} | Weight : {weight.numpy():.5f} | Bias : {bias.numpy():.5f} | Loss : {loss:.5f}')"
   ]
  },
  {
   "cell_type": "code",
   "execution_count": null,
   "id": "impressive-struggle",
   "metadata": {},
   "outputs": [],
   "source": []
  }
 ],
 "metadata": {
  "kernelspec": {
   "display_name": "Python 3 (ipykernel)",
   "language": "python",
   "name": "python3"
  },
  "language_info": {
   "codemirror_mode": {
    "name": "ipython",
    "version": 3
   },
   "file_extension": ".py",
   "mimetype": "text/x-python",
   "name": "python",
   "nbconvert_exporter": "python",
   "pygments_lexer": "ipython3",
   "version": "3.11.5"
  }
 },
 "nbformat": 4,
 "nbformat_minor": 5
}
