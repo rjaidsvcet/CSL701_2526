{
 "cells": [
  {
   "cell_type": "code",
   "execution_count": 1,
   "id": "optical-paste",
   "metadata": {},
   "outputs": [],
   "source": [
    "import numpy as np"
   ]
  },
  {
   "cell_type": "code",
   "execution_count": 2,
   "id": "cellular-advantage",
   "metadata": {},
   "outputs": [],
   "source": [
    "X = np.random.randn(10)\n",
    "y = np.where(X<0, 0, 1)"
   ]
  },
  {
   "cell_type": "code",
   "execution_count": 3,
   "id": "handled-funeral",
   "metadata": {},
   "outputs": [],
   "source": [
    "# X = np.expand_dims(X, axis=0)\n",
    "# X = np.transpose(X)\n",
    "# y = np.expand_dims(y, axis=0)\n",
    "# y = np.transpose(y)"
   ]
  },
  {
   "cell_type": "code",
   "execution_count": 4,
   "id": "wicked-antenna",
   "metadata": {},
   "outputs": [],
   "source": [
    "np.random.seed(0)\n",
    "W1 = np.random.randn(1)\n",
    "b1 = np.random.randn(1)"
   ]
  },
  {
   "cell_type": "code",
   "execution_count": 5,
   "id": "paperback-frank",
   "metadata": {},
   "outputs": [],
   "source": [
    "import torch"
   ]
  },
  {
   "cell_type": "code",
   "execution_count": 6,
   "id": "peripheral-concrete",
   "metadata": {},
   "outputs": [],
   "source": [
    "def linearModel(weight, bias, x):\n",
    "    return weight*x + bias"
   ]
  },
  {
   "cell_type": "code",
   "execution_count": 7,
   "id": "polish-pharmacy",
   "metadata": {},
   "outputs": [],
   "source": [
    "from torch.nn import Sigmoid\n",
    "sigmoid = Sigmoid()"
   ]
  },
  {
   "cell_type": "code",
   "execution_count": 8,
   "id": "stylish-layer",
   "metadata": {},
   "outputs": [],
   "source": [
    "from torch.nn import BCELoss\n",
    "bce = BCELoss()"
   ]
  },
  {
   "cell_type": "code",
   "execution_count": 9,
   "id": "strategic-audit",
   "metadata": {},
   "outputs": [],
   "source": [
    "X = torch.Tensor(X)\n",
    "y = torch.Tensor(y)"
   ]
  },
  {
   "cell_type": "code",
   "execution_count": 10,
   "id": "incident-greece",
   "metadata": {},
   "outputs": [],
   "source": [
    "weight = torch.tensor(W1.item(), requires_grad=True)\n",
    "bias = torch.tensor(b1.item(), requires_grad=True)"
   ]
  },
  {
   "cell_type": "code",
   "execution_count": 11,
   "id": "dirty-grammar",
   "metadata": {},
   "outputs": [],
   "source": [
    "learning_rate = 0.01\n",
    "epochs = 5"
   ]
  },
  {
   "cell_type": "code",
   "execution_count": 12,
   "id": "subtle-costume",
   "metadata": {},
   "outputs": [
    {
     "name": "stdout",
     "output_type": "stream",
     "text": [
      "Epochs : 1 | Loss : 0.21184 | Weights : 1.76498 | Bias : 0.40006\n",
      "Epochs : 2 | Loss : 0.21175 | Weights : 1.76591 | Bias : 0.39995\n",
      "Epochs : 3 | Loss : 0.21166 | Weights : 1.76683 | Bias : 0.39985\n",
      "Epochs : 4 | Loss : 0.21158 | Weights : 1.76776 | Bias : 0.39975\n",
      "Epochs : 5 | Loss : 0.21149 | Weights : 1.76869 | Bias : 0.39965\n"
     ]
    }
   ],
   "source": [
    "for i in range (epochs):\n",
    "    y_pred = linearModel(weight, bias, X)\n",
    "    z = sigmoid(y_pred)\n",
    "    loss = bce(z, y)\n",
    "    loss.backward()\n",
    "    weight.data -= learning_rate * weight.grad.data\n",
    "    bias.data -= learning_rate * bias.grad.data\n",
    "    \n",
    "    weight.grad.data.zero_()\n",
    "    bias.grad.data.zero_()\n",
    "    \n",
    "    print(f'Epochs : {i+1} | Loss : {loss.item():.5f} | Weights : {weight.item():.5f} | Bias : {bias.item():.5f}')"
   ]
  },
  {
   "cell_type": "code",
   "execution_count": null,
   "id": "b8ed78c8-cb87-4a9f-be85-ef98a4522537",
   "metadata": {},
   "outputs": [],
   "source": []
  }
 ],
 "metadata": {
  "kernelspec": {
   "display_name": "Python 3 (ipykernel)",
   "language": "python",
   "name": "python3"
  },
  "language_info": {
   "codemirror_mode": {
    "name": "ipython",
    "version": 3
   },
   "file_extension": ".py",
   "mimetype": "text/x-python",
   "name": "python",
   "nbconvert_exporter": "python",
   "pygments_lexer": "ipython3",
   "version": "3.11.5"
  }
 },
 "nbformat": 4,
 "nbformat_minor": 5
}
