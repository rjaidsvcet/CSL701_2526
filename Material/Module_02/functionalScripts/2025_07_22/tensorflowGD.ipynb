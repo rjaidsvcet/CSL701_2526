{
 "cells": [
  {
   "cell_type": "code",
   "execution_count": 1,
   "id": "72e285ce-bb22-49d1-85a2-71f4314b78ed",
   "metadata": {},
   "outputs": [],
   "source": [
    "import numpy as np\n",
    "\n",
    "input_weight = 0.7\n",
    "input_bias = 0.3\n",
    "X = np.arange (start=0, stop=1, step=0.01)\n",
    "y = input_weight * X + input_bias"
   ]
  },
  {
   "cell_type": "code",
   "execution_count": 2,
   "id": "103516af-906e-4493-9bea-579ff4f50fb5",
   "metadata": {},
   "outputs": [],
   "source": [
    "X = np.expand_dims (X, axis=0)\n",
    "X = np.transpose (X)"
   ]
  },
  {
   "cell_type": "code",
   "execution_count": 3,
   "id": "49303cbb-2dc2-455b-8c43-88bca5bba601",
   "metadata": {},
   "outputs": [],
   "source": [
    "y = np.expand_dims (y, axis=0)\n",
    "y = np.transpose (y)"
   ]
  },
  {
   "cell_type": "code",
   "execution_count": 4,
   "id": "4c2eeb0b-e6c8-4699-9825-c4abc263f3ae",
   "metadata": {},
   "outputs": [],
   "source": [
    "import tensorflow as tf"
   ]
  },
  {
   "cell_type": "code",
   "execution_count": 5,
   "id": "999ebd0d-4994-40ad-9987-b7986094647e",
   "metadata": {},
   "outputs": [],
   "source": [
    "def loss (y_true, y_pred):\n",
    "    return tf.reduce_mean (tf.square (y_true - y_pred))"
   ]
  },
  {
   "cell_type": "code",
   "execution_count": 6,
   "id": "167936d7-4411-407f-a104-ca0ed9a58b7f",
   "metadata": {},
   "outputs": [],
   "source": [
    "np.random.seed (0)\n",
    "W1 = np.random.randn (1)\n",
    "b1 = np.random.randn (1)"
   ]
  },
  {
   "cell_type": "code",
   "execution_count": 7,
   "id": "effcd4f7-73e1-4518-9a48-b68c2d6bc9a0",
   "metadata": {},
   "outputs": [],
   "source": [
    "w = tf.Variable (W1.item ())\n",
    "b = tf.Variable (b1.item ())\n",
    "\n",
    "X = tf.constant (X, dtype=float)\n",
    "y = tf.constant (y, dtype=float)"
   ]
  },
  {
   "cell_type": "code",
   "execution_count": 8,
   "id": "b6f22d4f-ebed-4c23-b8f7-9d4c1153827e",
   "metadata": {},
   "outputs": [],
   "source": [
    "def model (weight, x, bias):\n",
    "    return weight * x + bias"
   ]
  },
  {
   "cell_type": "code",
   "execution_count": 9,
   "id": "8e66b35b-c122-44b5-85b1-9ce7c8301d6e",
   "metadata": {},
   "outputs": [
    {
     "name": "stdout",
     "output_type": "stream",
     "text": [
      "Epoch : 1 | Weight : 1.76006 | Bias : 0.39389\n",
      "Epoch : 2 | Weight : 1.75612 | Bias : 0.38770\n",
      "Epoch : 3 | Weight : 1.75222 | Bias : 0.38160\n",
      "Epoch : 4 | Weight : 1.74836 | Bias : 0.37557\n",
      "Epoch : 5 | Weight : 1.74454 | Bias : 0.36963\n"
     ]
    }
   ],
   "source": [
    "for i in range (5):\n",
    "    with tf.GradientTape () as tape:\n",
    "        y_pred = model (weight=w, x=X, bias=b)\n",
    "        mse = loss (y, y_pred)\n",
    "    gradients = tape.gradient (mse, [w, b])\n",
    "    w.assign (w - 0.005 * gradients[0])\n",
    "    b.assign (b - 0.005 * gradients[1])\n",
    "    print (f'Epoch : {i+1} | Weight : {w.numpy():.5f} | Bias : {b.numpy():.5f}')"
   ]
  },
  {
   "cell_type": "code",
   "execution_count": null,
   "id": "9b5e4816-a479-4465-bd5d-f13eb3fa36b1",
   "metadata": {},
   "outputs": [],
   "source": []
  },
  {
   "cell_type": "code",
   "execution_count": null,
   "id": "0de3c623-d361-49e2-88d7-f52933d726ea",
   "metadata": {},
   "outputs": [],
   "source": []
  },
  {
   "cell_type": "code",
   "execution_count": null,
   "id": "16c87590-6702-4be8-9b72-1513068a23a0",
   "metadata": {},
   "outputs": [],
   "source": []
  }
 ],
 "metadata": {
  "kernelspec": {
   "display_name": "deepLearning",
   "language": "python",
   "name": "python3"
  },
  "language_info": {
   "codemirror_mode": {
    "name": "ipython",
    "version": 3
   },
   "file_extension": ".py",
   "mimetype": "text/x-python",
   "name": "python",
   "nbconvert_exporter": "python",
   "pygments_lexer": "ipython3",
   "version": "3.11.5"
  }
 },
 "nbformat": 4,
 "nbformat_minor": 5
}
