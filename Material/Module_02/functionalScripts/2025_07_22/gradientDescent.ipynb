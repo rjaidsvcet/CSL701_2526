{
 "cells": [
  {
   "cell_type": "code",
   "execution_count": 1,
   "id": "8b5bba29-36c4-491c-8202-fe1e6e4d3b91",
   "metadata": {},
   "outputs": [],
   "source": [
    "import numpy as np\n",
    "import matplotlib.pyplot as plt"
   ]
  },
  {
   "cell_type": "code",
   "execution_count": 2,
   "id": "df459593-e82e-496b-9de4-b4530f903b19",
   "metadata": {},
   "outputs": [],
   "source": [
    "input_weight = 0.7\n",
    "input_bias = 0.3\n",
    "X = np.arange (start=0, stop=1, step=0.01)\n",
    "y = input_weight * X + input_bias"
   ]
  },
  {
   "cell_type": "code",
   "execution_count": 15,
   "id": "4193a27b-e917-4e1d-b630-ccbf2c8666a7",
   "metadata": {},
   "outputs": [],
   "source": [
    "class LinearModel:\n",
    "    def __init__ (self, inputData, inputLabels, weight, bias):\n",
    "        self.weight = weight\n",
    "        self.bias = bias\n",
    "        self.inputData = inputData\n",
    "        self.inputLabels = inputLabels\n",
    "\n",
    "    def train (self, X):\n",
    "        self.y_pred = self.weight * X + self.bias\n",
    "        return self.y_pred, self.weight, self.bias\n",
    "\n",
    "    def mse (self):\n",
    "        error = self.inputLabels - self.y_pred\n",
    "        squaredError = error ** 2\n",
    "        return np.mean (squaredError)\n",
    "\n",
    "    def gradientDescent (self, alpha=0.005, epochs=1):\n",
    "        error = self.inputLabels - self.y_pred\n",
    "        n = len (self.inputData)\n",
    "        for _ in range (epochs):\n",
    "            derivativeWeight = (-2/n)*np.sum(self.inputData*error)\n",
    "            derivativeBias = (-2/n) * np.sum (error)\n",
    "            self.weight -= alpha * derivativeWeight\n",
    "            self.bias -= alpha * derivativeBias\n",
    "            print (f'Epoch : {_+1} | Weight : {self.weight} | Bias : {self.bias}')\n",
    "        return self.weight, self.bias"
   ]
  },
  {
   "cell_type": "code",
   "execution_count": 16,
   "id": "2a71007b-2c18-445a-97cd-ec3f8d91d33b",
   "metadata": {},
   "outputs": [],
   "source": [
    "np.random.seed (0)\n",
    "W1 = np.random.randn (1)\n",
    "b1 = np.random.randn (1)"
   ]
  },
  {
   "cell_type": "code",
   "execution_count": 17,
   "id": "ea7f5dbd-b64c-46ea-9bdc-76b9a373f071",
   "metadata": {},
   "outputs": [
    {
     "data": {
      "text/plain": [
       "1.764052345967664"
      ]
     },
     "execution_count": 17,
     "metadata": {},
     "output_type": "execute_result"
    }
   ],
   "source": [
    "W1.item ()"
   ]
  },
  {
   "cell_type": "code",
   "execution_count": 18,
   "id": "063a8c8a-10b0-46d0-94fe-2bb578ade04d",
   "metadata": {},
   "outputs": [
    {
     "data": {
      "text/plain": [
       "0.4001572083672233"
      ]
     },
     "execution_count": 18,
     "metadata": {},
     "output_type": "execute_result"
    }
   ],
   "source": [
    "b1.item ()"
   ]
  },
  {
   "cell_type": "code",
   "execution_count": 19,
   "id": "bfd4d736-b911-4371-81f5-c87f3b5ff3e2",
   "metadata": {},
   "outputs": [],
   "source": [
    "model = LinearModel (\n",
    "    inputData = X,\n",
    "    inputLabels = y,\n",
    "    weight = W1.item (),\n",
    "    bias = b1.item ()\n",
    ")"
   ]
  },
  {
   "cell_type": "code",
   "execution_count": 20,
   "id": "3640008a-e374-4dce-9993-345d8972e95a",
   "metadata": {},
   "outputs": [],
   "source": [
    "y_pred, weight, bias = model.train (X)"
   ]
  },
  {
   "cell_type": "code",
   "execution_count": 21,
   "id": "c90895d3-1f93-4e62-8106-372e17a9cbd3",
   "metadata": {},
   "outputs": [],
   "source": [
    "mse = model.mse ()"
   ]
  },
  {
   "cell_type": "code",
   "execution_count": 22,
   "id": "e60f34ef-a8d5-40c0-95c0-4d605f094625",
   "metadata": {},
   "outputs": [
    {
     "data": {
      "text/plain": [
       "0.487298551926227"
      ]
     },
     "execution_count": 22,
     "metadata": {},
     "output_type": "execute_result"
    }
   ],
   "source": [
    "mse"
   ]
  },
  {
   "cell_type": "code",
   "execution_count": 24,
   "id": "a605bf68-0eb4-4c97-8875-f877b9b051a1",
   "metadata": {},
   "outputs": [
    {
     "name": "stdout",
     "output_type": "stream",
     "text": [
      "Epoch : 1 | Weight : 1.7401147816112486 | Bias : 0.3625454211899502\n",
      "Epoch : 2 | Weight : 1.736125187551846 | Bias : 0.356276789993738\n",
      "Epoch : 3 | Weight : 1.7321355934924434 | Bias : 0.35000815879752584\n",
      "Epoch : 4 | Weight : 1.7281459994330408 | Bias : 0.34373952760131365\n",
      "Epoch : 5 | Weight : 1.7241564053736382 | Bias : 0.3374708964051015\n",
      "Epoch : 6 | Weight : 1.7201668113142357 | Bias : 0.3312022652088893\n",
      "Epoch : 7 | Weight : 1.716177217254833 | Bias : 0.3249336340126771\n",
      "Epoch : 8 | Weight : 1.7121876231954305 | Bias : 0.3186650028164649\n",
      "Epoch : 9 | Weight : 1.708198029136028 | Bias : 0.31239637162025274\n",
      "Epoch : 10 | Weight : 1.7042084350766253 | Bias : 0.30612774042404056\n"
     ]
    }
   ],
   "source": [
    "weight, bias = model.gradientDescent (epochs=10)"
   ]
  },
  {
   "cell_type": "code",
   "execution_count": 25,
   "id": "116c07fd-7060-4023-a782-3306a836adbe",
   "metadata": {},
   "outputs": [
    {
     "data": {
      "text/plain": [
       "1.7042084350766253"
      ]
     },
     "execution_count": 25,
     "metadata": {},
     "output_type": "execute_result"
    }
   ],
   "source": [
    "weight"
   ]
  },
  {
   "cell_type": "code",
   "execution_count": 26,
   "id": "e86dc326-d370-4512-9222-a8a63c1460eb",
   "metadata": {},
   "outputs": [
    {
     "data": {
      "text/plain": [
       "0.30612774042404056"
      ]
     },
     "execution_count": 26,
     "metadata": {},
     "output_type": "execute_result"
    }
   ],
   "source": [
    "bias"
   ]
  },
  {
   "cell_type": "code",
   "execution_count": null,
   "id": "ca4bf1c9-04b1-431a-a9ff-fc79b30eb0e4",
   "metadata": {},
   "outputs": [],
   "source": []
  }
 ],
 "metadata": {
  "kernelspec": {
   "display_name": "Python 3 (ipykernel)",
   "language": "python",
   "name": "python3"
  },
  "language_info": {
   "codemirror_mode": {
    "name": "ipython",
    "version": 3
   },
   "file_extension": ".py",
   "mimetype": "text/x-python",
   "name": "python",
   "nbconvert_exporter": "python",
   "pygments_lexer": "ipython3",
   "version": "3.11.5"
  }
 },
 "nbformat": 4,
 "nbformat_minor": 5
}
