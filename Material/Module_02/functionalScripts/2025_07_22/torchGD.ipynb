{
 "cells": [
  {
   "cell_type": "code",
   "execution_count": 1,
   "id": "921ea1a8-dcc9-4b50-9c1e-ee1a94831c58",
   "metadata": {},
   "outputs": [],
   "source": [
    "import numpy as np\n",
    "import matplotlib.pyplot as plt\n",
    "\n",
    "input_weight = 0.7\n",
    "input_bias = 0.3\n",
    "X = np.arange (start=0, stop=1, step=0.01)\n",
    "y = input_weight * X + input_bias\n",
    "\n",
    "X = np.expand_dims (X, axis=0)\n",
    "X = np.transpose (X)\n",
    "\n",
    "y = np.expand_dims (y, axis=0)\n",
    "y = np.transpose (y)"
   ]
  },
  {
   "cell_type": "code",
   "execution_count": 2,
   "id": "0ac5357e-2be6-497c-a017-3d486bd597aa",
   "metadata": {},
   "outputs": [],
   "source": [
    "np.random.seed (0)\n",
    "W1 = np.random.randn (1)\n",
    "b1 = np.random.randn (1)"
   ]
  },
  {
   "cell_type": "code",
   "execution_count": 3,
   "id": "2edd6f40-7542-467c-87f8-8f4f00fbe752",
   "metadata": {},
   "outputs": [],
   "source": [
    "import torch"
   ]
  },
  {
   "cell_type": "code",
   "execution_count": 4,
   "id": "c73fb188-0a53-4c47-bf51-fd4daf6306c1",
   "metadata": {},
   "outputs": [],
   "source": [
    "def linearModel (weight, bias, x):\n",
    "    return weight * x + bias"
   ]
  },
  {
   "cell_type": "code",
   "execution_count": 11,
   "id": "3bc8dbd1-5583-4a1f-b02f-f296f94bf3a3",
   "metadata": {},
   "outputs": [],
   "source": [
    "def criterion (y_true, y_pred):\n",
    "    return torch.mean ((y_true - y_pred) ** 2)"
   ]
  },
  {
   "cell_type": "code",
   "execution_count": 12,
   "id": "77fab738-ecb6-42a9-831c-37ffa863bad6",
   "metadata": {},
   "outputs": [],
   "source": [
    "X = torch.Tensor (X)\n",
    "y = torch.Tensor (y)"
   ]
  },
  {
   "cell_type": "code",
   "execution_count": 13,
   "id": "160d5e9d-cd58-4079-bb0c-07e3bd8392e2",
   "metadata": {},
   "outputs": [],
   "source": [
    "weight = torch.tensor (W1.item(), requires_grad=True)\n",
    "bias = torch.tensor (b1.item (), requires_grad=True)"
   ]
  },
  {
   "cell_type": "code",
   "execution_count": 14,
   "id": "7c647a5f-49f2-4088-8d7c-86f61a7e7d0f",
   "metadata": {},
   "outputs": [],
   "source": [
    "learning_rate = 0.005\n",
    "epochs = 5"
   ]
  },
  {
   "cell_type": "code",
   "execution_count": 20,
   "id": "08bac15c-77d9-4405-a379-3b7564b2fa0f",
   "metadata": {},
   "outputs": [
    {
     "name": "stdout",
     "output_type": "stream",
     "text": [
      "Epoch:1 | MSE:0.38909|Weight:1.72251 | Bias : 0.33557\n",
      "Epoch:2 | MSE:0.38057|Weight:1.71897 | Bias : 0.33015\n",
      "Epoch:3 | MSE:0.37225|Weight:1.71548 | Bias : 0.32481\n",
      "Epoch:4 | MSE:0.36415|Weight:1.71202 | Bias : 0.31953\n",
      "Epoch:5 | MSE:0.35624|Weight:1.70860 | Bias : 0.31433\n",
      "Epoch:6 | MSE:0.34853|Weight:1.70522 | Bias : 0.30919\n",
      "Epoch:7 | MSE:0.34102|Weight:1.70187 | Bias : 0.30412\n",
      "Epoch:8 | MSE:0.33369|Weight:1.69856 | Bias : 0.29912\n",
      "Epoch:9 | MSE:0.32654|Weight:1.69529 | Bias : 0.29419\n",
      "Epoch:10 | MSE:0.31957|Weight:1.69205 | Bias : 0.28932\n"
     ]
    }
   ],
   "source": [
    "for i in range (10):\n",
    "    y_pred = linearModel (weight, bias, X)\n",
    "    loss = criterion (y, y_pred)\n",
    "    loss.backward ()\n",
    "\n",
    "    weight.data -= learning_rate * weight.grad.data\n",
    "    bias.data -= learning_rate * bias.grad.data\n",
    "\n",
    "    weight.grad.data.zero_()\n",
    "    bias.grad.data.zero_()\n",
    "\n",
    "    print (f'Epoch:{i+1} | MSE:{loss.item():.5f}|Weight:{weight.item():.5f} | Bias : {bias.item():.5f}')"
   ]
  },
  {
   "cell_type": "code",
   "execution_count": null,
   "id": "4f17b3b0-9c80-4798-abfe-3bcedd42ba09",
   "metadata": {},
   "outputs": [],
   "source": []
  }
 ],
 "metadata": {
  "kernelspec": {
   "display_name": "Python 3 (ipykernel)",
   "language": "python",
   "name": "python3"
  },
  "language_info": {
   "codemirror_mode": {
    "name": "ipython",
    "version": 3
   },
   "file_extension": ".py",
   "mimetype": "text/x-python",
   "name": "python",
   "nbconvert_exporter": "python",
   "pygments_lexer": "ipython3",
   "version": "3.11.5"
  }
 },
 "nbformat": 4,
 "nbformat_minor": 5
}
